{
 "cells": [
  {
   "cell_type": "markdown",
   "metadata": {},
   "source": [
    "# Import libraries"
   ]
  },
  {
   "cell_type": "code",
   "execution_count": 1,
   "metadata": {},
   "outputs": [],
   "source": [
    "# for dataframe building\n",
    "import pandas as pd\n",
    "import numpy as np\n",
    "from surprise import Dataset, Reader\n",
    "\n",
    "# Importing models that I want to run\n",
    "\n",
    "# To make our data usable for our models\n",
    "from surprise import Reader, Dataset\n",
    "\n",
    "# Basic Models\n",
    "from surprise.prediction_algorithms.random_pred import NormalPredictor\n",
    "from surprise.prediction_algorithms.baseline_only import BaselineOnly\n",
    "\n",
    "# KNN Based Models\n",
    "from surprise.prediction_algorithms.knns import KNNBasic, KNNWithMeans, KNNWithZScore, KNNBaseline\n",
    "\n",
    "# Matrix Factorization Based Models\n",
    "from surprise.prediction_algorithms.matrix_factorization import SVD, SVDpp, NMF\n",
    "\n",
    "# To help measure how our models do\n",
    "from surprise.model_selection import cross_validate\n",
    "from surprise.accuracy import rmse\n",
    "\n",
    "#visualization\n",
    "import matplotlib.pyplot as plt\n",
    "import seaborn as sns"
   ]
  },
  {
   "cell_type": "markdown",
   "metadata": {},
   "source": [
    "# Import data"
   ]
  },
  {
   "cell_type": "code",
   "execution_count": 2,
   "metadata": {},
   "outputs": [],
   "source": [
    "links = pd.read_csv('Data/links.csv')\n",
    "tags = pd.read_csv('Data/tags.csv')\n",
    "ratings = pd.read_csv('Data/ratings.csv')\n",
    "movies = pd.read_csv('Data/movies.csv')"
   ]
  },
  {
   "cell_type": "markdown",
   "metadata": {},
   "source": [
    "# merge data into one dataframe"
   ]
  },
  {
   "cell_type": "markdown",
   "metadata": {},
   "source": [
    "merge ratings and movie info"
   ]
  },
  {
   "cell_type": "code",
   "execution_count": 3,
   "metadata": {},
   "outputs": [],
   "source": [
    "df = pd.merge(ratings, movies, left_on='movieId', right_on='movieId', how='left')"
   ]
  },
  {
   "cell_type": "markdown",
   "metadata": {},
   "source": [
    "merge previous set with links"
   ]
  },
  {
   "cell_type": "code",
   "execution_count": 4,
   "metadata": {},
   "outputs": [],
   "source": [
    "df = pd.merge(df, links, left_on = 'movieId', right_on='movieId', how='left')"
   ]
  },
  {
   "cell_type": "markdown",
   "metadata": {},
   "source": [
    "Putting our data into the needed format for these models"
   ]
  },
  {
   "cell_type": "code",
   "execution_count": 5,
   "metadata": {},
   "outputs": [],
   "source": [
    "temp = df[['userId', 'movieId', 'rating']]"
   ]
  },
  {
   "cell_type": "markdown",
   "metadata": {},
   "source": [
    "#### This will be to get our movie recommendations at the end"
   ]
  },
  {
   "cell_type": "code",
   "execution_count": 79,
   "metadata": {},
   "outputs": [],
   "source": [
    "def get_movie_recs(movies,user, n_recs):\n",
    "    '''\n",
    "    Returns the top n recommendations for movies.\n",
    "    \n",
    "    movies: The dataframe with the movie ID numbers and titles.\n",
    "    \n",
    "    user: User ID number\n",
    "    \n",
    "    n_recs: The number of recommendations to return\n",
    "    '''\n",
    "    movie_list = []\n",
    "    for movie in temp['movieId'].unique():\n",
    "        movie_list.append((movie,svd_pp.predict(user,movie)[3]))\n",
    "\n",
    "    ranked_movie_list = sorted(movie_list, key=lambda x:x[1], reverse=True)\n",
    "    recommendations = []\n",
    "    for m in ranked_movie_list[0:n_recs]:\n",
    "        recommendations.append(movies[movies['movieId']==m[0]]['title'])\n",
    "    print(user)\n",
    "    return recommendations"
   ]
  },
  {
   "cell_type": "markdown",
   "metadata": {},
   "source": [
    "## Quick EDA"
   ]
  },
  {
   "cell_type": "markdown",
   "metadata": {},
   "source": [
    "Since ratings are a key part of how our models will work, I wanted to see a quick distribution of the ratings"
   ]
  },
  {
   "cell_type": "code",
   "execution_count": 83,
   "metadata": {},
   "outputs": [
    {
     "data": {
      "image/png": "[encoded data removed]",
      "text/plain": [
       "<Figure size 432x288 with 1 Axes>"
      ]
     },
     "metadata": {
      "needs_background": "light"
     },
     "output_type": "display_data"
    }
   ],
   "source": [
    "plt.hist(temp.rating)\n",
    "plt.title('Rating Distribution')\n",
    "plt.xlabel('Rating')\n",
    "plt.ylabel('Number of Movies')\n",
    "plt.tight_layout()\n",
    "plt.savefig('Images/ratingdist.png')"
   ]
  },
  {
   "cell_type": "markdown",
   "metadata": {},
   "source": [
    "The year for each movie is given at the end as (YYYY) in each title. I run through the titles and extract the year and make sure we have numerical values."
   ]
  },
  {
   "cell_type": "code",
   "execution_count": 7,
   "metadata": {},
   "outputs": [],
   "source": [
    "years = []\n",
    "for title in movies.title:\n",
    "    years.append(title[-5:-1])"
   ]
  },
  {
   "cell_type": "code",
   "execution_count": 16,
   "metadata": {},
   "outputs": [],
   "source": [
    "cleaned_years = []\n",
    "for year in years:\n",
    "    try:\n",
    "        cleaned_years.append(int(year))\n",
    "    except:\n",
    "        cleaned_years.append(None)"
   ]
  },
  {
   "cell_type": "code",
   "execution_count": 17,
   "metadata": {},
   "outputs": [],
   "source": [
    "movies['year'] = cleaned_years"
   ]
  },
  {
   "cell_type": "code",
   "execution_count": 30,
   "metadata": {},
   "outputs": [],
   "source": [
    "my_years = movies.year.dropna()"
   ]
  },
  {
   "cell_type": "markdown",
   "metadata": {},
   "source": [
    "I wanted to get a quick idea of the years that the movie set spans. One of our next steps will be to see if our model chooses certain years/decades over others and if there is an explanation why."
   ]
  },
  {
   "cell_type": "code",
   "execution_count": 82,
   "metadata": {},
   "outputs": [
    {
     "data": {
      "image/png": "[encoded data removed]",
      "text/plain": [
       "<Figure size 432x288 with 1 Axes>"
      ]
     },
     "metadata": {
      "needs_background": "light"
     },
     "output_type": "display_data"
    }
   ],
   "source": [
    "plt.hist(my_years)\n",
    "plt.title('Movies Per Year')\n",
    "plt.xlabel('Year')\n",
    "plt.ylabel('Number of Movies')\n",
    "plt.tight_layout()\n",
    "plt.savefig('Images/movieyear.png')"
   ]
  },
  {
   "cell_type": "markdown",
   "metadata": {},
   "source": [
    "I am assigning streaming services randomly to each movie. This will do nothing in our model. However, it will help visually with my idea in recommending movies and what streaming platforms they are offered on."
   ]
  },
  {
   "cell_type": "code",
   "execution_count": 38,
   "metadata": {},
   "outputs": [],
   "source": [
    "services = ['Amazon Prime', 'Netflix', 'Hulu', 'Disney Plus', 'Other']\n",
    "movie_services = [np.random.choice(services, p=[.3,.3,.20,.15,.05]) for i in range(9742)]\n",
    "movies['service'] = movie_services"
   ]
  },
  {
   "cell_type": "code",
   "execution_count": 39,
   "metadata": {},
   "outputs": [],
   "source": [
    "streaming_services = dict(movies.service.value_counts())"
   ]
  },
  {
   "cell_type": "markdown",
   "metadata": {},
   "source": [
    "I am looking at the distribution of the streaming service tags that I randomly assigned."
   ]
  },
  {
   "cell_type": "code",
   "execution_count": 81,
   "metadata": {},
   "outputs": [
    {
     "data": {
      "image/png": "[encoded data removed]",
      "text/plain": [
       "<Figure size 432x288 with 1 Axes>"
      ]
     },
     "metadata": {
      "needs_background": "light"
     },
     "output_type": "display_data"
    }
   ],
   "source": [
    "sns.barplot(list(streaming_services.keys()), list(streaming_services.values()), palette=['C0','C3','C2','C1','C4'])\n",
    "plt.title('Distribution of Streaming Services')\n",
    "plt.xlabel('Streaming Service')\n",
    "plt.ylabel('Number of Movies')\n",
    "plt.tight_layout()\n",
    "plt.savefig('Images/dist_service.png')"
   ]
  },
  {
   "cell_type": "markdown",
   "metadata": {},
   "source": [
    "# Turn genres into a list\n",
    "I'm doing this to separate each genre as their own object instead of all of them being together into one string. This will help when I encode genres."
   ]
  },
  {
   "cell_type": "code",
   "execution_count": 41,
   "metadata": {},
   "outputs": [],
   "source": [
    "def genre_list(entry):\n",
    "    return entry.split('|')"
   ]
  },
  {
   "cell_type": "code",
   "execution_count": 42,
   "metadata": {},
   "outputs": [],
   "source": [
    "df.genres = df.genres.apply(genre_list)"
   ]
  },
  {
   "cell_type": "markdown",
   "metadata": {},
   "source": [
    "# Going Through Models\n",
    "I will run models and compare one another as is"
   ]
  },
  {
   "cell_type": "markdown",
   "metadata": {},
   "source": [
    "Make our data usable for our model"
   ]
  },
  {
   "cell_type": "code",
   "execution_count": 43,
   "metadata": {},
   "outputs": [],
   "source": [
    "reader = Reader()\n",
    "data = Dataset.load_from_df(temp, reader)"
   ]
  },
  {
   "cell_type": "markdown",
   "metadata": {},
   "source": [
    "#### Making an instance of each model"
   ]
  },
  {
   "cell_type": "markdown",
   "metadata": {},
   "source": [
    "Basic"
   ]
  },
  {
   "cell_type": "code",
   "execution_count": 44,
   "metadata": {},
   "outputs": [],
   "source": [
    "norm_pred = NormalPredictor()\n",
    "baseline = BaselineOnly()"
   ]
  },
  {
   "cell_type": "markdown",
   "metadata": {},
   "source": [
    "KNN Based"
   ]
  },
  {
   "cell_type": "code",
   "execution_count": 45,
   "metadata": {},
   "outputs": [],
   "source": [
    "knn_basic = KNNBasic()\n",
    "knn_means = KNNWithMeans()\n",
    "knn_z = KNNWithZScore()\n",
    "knn_baseline = KNNBaseline()"
   ]
  },
  {
   "cell_type": "markdown",
   "metadata": {},
   "source": [
    "Matrix-Factorization Based"
   ]
  },
  {
   "cell_type": "code",
   "execution_count": 46,
   "metadata": {},
   "outputs": [],
   "source": [
    "svd = SVD()\n",
    "svd_pp = SVDpp()\n",
    "nmf = NMF()"
   ]
  },
  {
   "cell_type": "markdown",
   "metadata": {},
   "source": [
    "##### This will run the data through each model and calculate the average rmse and mae. It will append the scores list with the name of the algorithm, the average rmse, and the average mae\n"
   ]
  },
  {
   "cell_type": "code",
   "execution_count": 47,
   "metadata": {},
   "outputs": [],
   "source": [
    "algs = [norm_pred, baseline, knn_basic, knn_means, knn_z, knn_baseline, svd, svd_pp, nmf]\n",
    "algs_name = ['Normal Predictor', 'Baseline Only', 'KNN Basic', 'KNN with Means', 'KNN with Z-score', 'KNN Baseline', 'SVD', 'SVD pp', 'NMF']\n",
    "scores = []\n",
    "for a in algs:\n",
    "    output = cross_validate(a, data, n_jobs=-1)\n",
    "    rmse = np.mean(output['test_rmse'])\n",
    "    mae = np.mean(output['test_mae'])\n",
    "    scores.append([algs_name[algs.index(a)], rmse, mae])"
   ]
  },
  {
   "cell_type": "markdown",
   "metadata": {},
   "source": [
    "##### Checking the scores"
   ]
  },
  {
   "cell_type": "code",
   "execution_count": 48,
   "metadata": {},
   "outputs": [
    {
     "data": {
      "text/plain": [
       "[['Normal Predictor', 1.421790294040056, 1.1353374941000929],\n",
       " ['Baseline Only', 0.8725156067406484, 0.6726875150509878],\n",
       " ['KNN Basic', 0.9467594139423179, 0.7253505980356161],\n",
       " ['KNN with Means', 0.8962132182696518, 0.6845415117398332],\n",
       " ['KNN with Z-score', 0.8943579951002167, 0.6787622410625431],\n",
       " ['KNN Baseline', 0.873053202343454, 0.6675069694492348],\n",
       " ['SVD', 0.8732820832018253, 0.671015518433947],\n",
       " ['SVD pp', 0.8609917633484961, 0.6597793802262766],\n",
       " ['NMF', 0.9224528298044357, 0.7066733849732096]]"
      ]
     },
     "execution_count": 48,
     "metadata": {},
     "output_type": "execute_result"
    }
   ],
   "source": [
    "scores"
   ]
  },
  {
   "cell_type": "markdown",
   "metadata": {},
   "source": [
    "# SVDpp did the best, so we continue to build our recommendation system with this model"
   ]
  },
  {
   "cell_type": "markdown",
   "metadata": {},
   "source": [
    "#### Picking a random user and looking at their movie selections"
   ]
  },
  {
   "cell_type": "code",
   "execution_count": 49,
   "metadata": {},
   "outputs": [
    {
     "name": "stdout",
     "output_type": "stream",
     "text": [
      "552\n"
     ]
    }
   ],
   "source": [
    "user = np.random.choice(df.userId)\n",
    "print(user)"
   ]
  },
  {
   "cell_type": "code",
   "execution_count": 50,
   "metadata": {},
   "outputs": [],
   "source": [
    "user_ratings = df[df.userId == user]\n",
    "user_ratings = user_ratings[['userId', 'movieId', 'rating']]"
   ]
  },
  {
   "cell_type": "code",
   "execution_count": 51,
   "metadata": {},
   "outputs": [
    {
     "name": "stdout",
     "output_type": "stream",
     "text": [
      "1883    Office Space (1999)\n",
      "Name: title, dtype: object\n",
      "4800    Lord of the Rings: The Return of the King, The...\n",
      "Name: title, dtype: object\n",
      "898    Star Wars: Episode V - The Empire Strikes Back...\n",
      "Name: title, dtype: object\n",
      "863    Monty Python and the Holy Grail (1975)\n",
      "Name: title, dtype: object\n",
      "3562    Donnie Darko (2001)\n",
      "Name: title, dtype: object\n",
      "4046    Gallipoli (1981)\n",
      "Name: title, dtype: object\n",
      "474    Blade Runner (1982)\n",
      "Name: title, dtype: object\n",
      "2536    Muppet Movie, The (1979)\n",
      "Name: title, dtype: object\n",
      "1218    L.A. Confidential (1997)\n",
      "Name: title, dtype: object\n",
      "815    Willy Wonka & the Chocolate Factory (1971)\n",
      "Name: title, dtype: object\n"
     ]
    }
   ],
   "source": [
    "for m in user_ratings.sort_values('rating',ascending=False).movieId[:10]:\n",
    "    print(movies[movies['movieId']==m].title)"
   ]
  },
  {
   "cell_type": "code",
   "execution_count": 52,
   "metadata": {},
   "outputs": [
    {
     "name": "stdout",
     "output_type": "stream",
     "text": [
      "2    Grumpier Old Men (1995)\n",
      "Name: title, dtype: object 2    Comedy|Romance\n",
      "Name: genres, dtype: object\n",
      "18    Ace Ventura: When Nature Calls (1995)\n",
      "Name: title, dtype: object 18    Comedy\n",
      "Name: genres, dtype: object\n",
      "24    Leaving Las Vegas (1995)\n",
      "Name: title, dtype: object 24    Drama|Romance\n",
      "Name: genres, dtype: object\n",
      "84    Broken Arrow (1996)\n",
      "Name: title, dtype: object 84    Action|Adventure|Thriller\n",
      "Name: genres, dtype: object\n",
      "92    Happy Gilmore (1996)\n",
      "Name: title, dtype: object 92    Comedy\n",
      "Name: genres, dtype: object\n",
      "134    Crimson Tide (1995)\n",
      "Name: title, dtype: object 134    Drama|Thriller|War\n",
      "Name: genres, dtype: object\n",
      "145    Judge Dredd (1995)\n",
      "Name: title, dtype: object 145    Action|Crime|Sci-Fi\n",
      "Name: genres, dtype: object\n",
      "201    Ed Wood (1994)\n",
      "Name: title, dtype: object 201    Comedy|Drama\n",
      "Name: genres, dtype: object\n",
      "257    Pulp Fiction (1994)\n",
      "Name: title, dtype: object 257    Comedy|Crime|Drama|Thriller\n",
      "Name: genres, dtype: object\n",
      "276    Santa Clause, The (1994)\n",
      "Name: title, dtype: object 276    Comedy|Drama|Fantasy\n",
      "Name: genres, dtype: object\n"
     ]
    }
   ],
   "source": [
    "for m in user_ratings.movieId[0:10]:\n",
    "    print(movies[movies.movieId==m].title, movies[movies.movieId==m].genres)"
   ]
  },
  {
   "cell_type": "markdown",
   "metadata": {},
   "source": [
    "#### Using SVDpp to make predictions"
   ]
  },
  {
   "cell_type": "code",
   "execution_count": 53,
   "metadata": {},
   "outputs": [],
   "source": [
    "svd_pp = SVDpp(n_factors=50, reg_all=0.05)"
   ]
  },
  {
   "cell_type": "markdown",
   "metadata": {},
   "source": [
    "Making a train set and test set. Then we fit our model to our train set"
   ]
  },
  {
   "cell_type": "code",
   "execution_count": 54,
   "metadata": {},
   "outputs": [],
   "source": [
    "train_set = data.build_full_trainset()"
   ]
  },
  {
   "cell_type": "code",
   "execution_count": 55,
   "metadata": {},
   "outputs": [
    {
     "data": {
      "text/plain": [
       "<surprise.prediction_algorithms.matrix_factorization.SVDpp at 0x1e844bf46d8>"
      ]
     },
     "execution_count": 55,
     "metadata": {},
     "output_type": "execute_result"
    }
   ],
   "source": [
    "svd_pp.fit(train_set)"
   ]
  },
  {
   "cell_type": "code",
   "execution_count": 56,
   "metadata": {},
   "outputs": [],
   "source": [
    "test_set = train_set.build_anti_testset()\n",
    "predictions = svd_pp.test(test_set)"
   ]
  },
  {
   "cell_type": "markdown",
   "metadata": {},
   "source": [
    "# Getting movie recommendations for our user"
   ]
  },
  {
   "cell_type": "code",
   "execution_count": 80,
   "metadata": {},
   "outputs": [
    {
     "name": "stdout",
     "output_type": "stream",
     "text": [
      "552\n"
     ]
    },
    {
     "data": {
      "text/plain": [
       "[257    Pulp Fiction (1994)\n",
       " Name: title, dtype: object, 659    Godfather, The (1972)\n",
       " Name: title, dtype: object, 898    Star Wars: Episode V - The Empire Strikes Back...\n",
       " Name: title, dtype: object, 224    Star Wars: Episode IV - A New Hope (1977)\n",
       " Name: title, dtype: object, 863    Monty Python and the Holy Grail (1975)\n",
       " Name: title, dtype: object, 461    Schindler's List (1993)\n",
       " Name: title, dtype: object, 922    Godfather: Part II, The (1974)\n",
       " Name: title, dtype: object, 602    Dr. Strangelove or: How I Learned to Stop Worr...\n",
       " Name: title, dtype: object, 277    Shawshank Redemption, The (1994)\n",
       " Name: title, dtype: object, 474    Blade Runner (1982)\n",
       " Name: title, dtype: object]"
      ]
     },
     "execution_count": 80,
     "metadata": {},
     "output_type": "execute_result"
    }
   ],
   "source": [
    "get_movie_recs(movies, user, 10)"
   ]
  },
  {
   "cell_type": "code",
   "execution_count": null,
   "metadata": {},
   "outputs": [],
   "source": []
  }
 ],
 "metadata": {
  "kernelspec": {
   "display_name": "learn-env",
   "language": "python",
   "name": "learn-env"
  },
  "language_info": {
   "codemirror_mode": {
    "name": "ipython",
    "version": 3
   },
   "file_extension": ".py",
   "mimetype": "text/x-python",
   "name": "python",
   "nbconvert_exporter": "python",
   "pygments_lexer": "ipython3",
   "version": "3.6.9"
  }
 },
 "nbformat": 4,
 "nbformat_minor": 4
}
